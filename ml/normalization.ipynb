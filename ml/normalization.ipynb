{
 "cells": [
  {
   "cell_type": "markdown",
   "metadata": {},
   "source": [
    "#### Understanding of the Data mean and std calculation time in the dataloader"
   ]
  },
  {
   "cell_type": "markdown",
   "metadata": {},
   "source": [
    "#### [Why normalization](https://stackoverflow.com/questions/58151507/why-pytorch-officially-use-mean-0-485-0-456-0-406-and-std-0-229-0-224-0-2)"
   ]
  },
  {
   "cell_type": "code",
   "execution_count": 1,
   "metadata": {},
   "outputs": [],
   "source": [
    "import os\n",
    "import torch\n",
    "from torchvision import datasets, transforms\n",
    "from torch.utils.data.dataset import Dataset\n",
    "from tqdm.notebook import tqdm\n",
    "from time import time"
   ]
  },
  {
   "cell_type": "code",
   "execution_count": 4,
   "metadata": {},
   "outputs": [],
   "source": [
    "dataset = datasets.MNIST(root=\"data\", train=True, download=True, transform=transforms.ToTensor())\n",
    "device = torch.device(\"cuda\" if torch.cuda.is_available() else \"cpu\")\n",
    "\n"
   ]
  },
  {
   "cell_type": "code",
   "execution_count": 5,
   "metadata": {},
   "outputs": [
    {
     "name": "stdout",
     "output_type": "stream",
     "text": [
      "Total elapsed time: 17.496: seconds\n"
     ]
    }
   ],
   "source": [
    "from tqdm.notebook import tqdm as tqdm\n",
    "# each dataset has image pixels value and label\n",
    "\n",
    "# using the simple loops\n",
    "starting_time = time()\n",
    "# this calcualtes the total mean and the standard deviation\n",
    "mean = torch.zeros(1)\n",
    "standard_deviation = torch.zeros(1)\n",
    "for i in range(len(dataset)):\n",
    "    dataset[i][0].to(device)\n",
    "    mean += dataset[i][0].mean()\n",
    "    standard_deviation += dataset[i][0].std()\n",
    "\n",
    "average_mean = mean / len(dataset)\n",
    "average_standard_deviation = standard_deviation/len(dataset)\n",
    "\n",
    "elapsed_time = time() - starting_time\n",
    "print(f'Total elapsed time: {elapsed_time:.3f}: seconds')"
   ]
  },
  {
   "cell_type": "code",
   "execution_count": 6,
   "metadata": {},
   "outputs": [
    {
     "data": {
      "text/plain": [
       "(tensor([0.1307]), tensor([0.3015]))"
      ]
     },
     "execution_count": 6,
     "metadata": {},
     "output_type": "execute_result"
    }
   ],
   "source": [
    "average_mean, average_standard_deviation"
   ]
  },
  {
   "cell_type": "markdown",
   "metadata": {},
   "source": [
    "#### Can we speed this up?"
   ]
  },
  {
   "cell_type": "code",
   "execution_count": 7,
   "metadata": {},
   "outputs": [],
   "source": [
    "# each dataset has image pixels value and label\n",
    "\n",
    "device = torch.device(\"cuda\" if torch.cuda.is_available() else \"cpu\")\n",
    "\n",
    "def calculate_mean_std(dataset):\n",
    "    # using the simple loops\n",
    "    starting_time = time()\n",
    "    # this calcualtes the total mean and the standard deviation\n",
    "    mean = torch.zeros(1).to(device)\n",
    "    standard_deviation = torch.zeros(1).to(device)\n",
    "\n",
    "    for i in range(len(dataset)):\n",
    "        mean += dataset[i][0].mean()\n",
    "        standard_deviation += dataset[i][0].std()\n",
    "\n",
    "    average_mean = mean / len(dataset)\n",
    "    average_standard_deviation = standard_deviation/len(dataset)\n",
    "\n",
    "    elapsed_time = time() - starting_time\n",
    "\n",
    "    print(f'Total elapsed time: {elapsed_time:.3f}: seconds')\n",
    "    return average_mean, average_standard_deviation"
   ]
  },
  {
   "cell_type": "code",
   "execution_count": 8,
   "metadata": {},
   "outputs": [
    {
     "name": "stdout",
     "output_type": "stream",
     "text": [
      "Total elapsed time: 12.636: seconds\n"
     ]
    },
    {
     "data": {
      "text/plain": [
       "(tensor([0.1307]), tensor([0.3015]))"
      ]
     },
     "execution_count": 8,
     "metadata": {},
     "output_type": "execute_result"
    }
   ],
   "source": [
    "calculate_mean_std(dataset)"
   ]
  },
  {
   "cell_type": "markdown",
   "metadata": {},
   "source": [
    "#### using data loader in form of batches"
   ]
  },
  {
   "cell_type": "code",
   "execution_count": 9,
   "metadata": {},
   "outputs": [],
   "source": [
    "\n",
    "using_dataloader = []\n",
    "\n",
    "# plotting the dataloading time \n",
    "def calculate_mean_std(dataloader):\n",
    "    # using the simple loops\n",
    "    starting_time = time()\n",
    "    # this calcualtes the total mean and the standard deviation\n",
    "    mean = torch.zeros(1).to(device)\n",
    "    standard_deviation = torch.zeros(1).to(device)\n",
    "\n",
    "    for images, _ in dataloader:\n",
    "        mean += images.mean()\n",
    "        standard_deviation += images.std()\n",
    "\n",
    "    average_mean = mean / len(dataset)\n",
    "    average_standard_deviation = standard_deviation/len(dataset)\n",
    "\n",
    "    elapsed_time = time() - starting_time\n",
    "\n",
    "    # print(f'Total elapsed time: {elapsed_time:.3f}: seconds')\n",
    "    return average_mean, average_standard_deviation, elapsed_time\n",
    "\n",
    "mnist_dataloader = torch.utils.data.DataLoader(dataset, shuffle = True, batch_size = 32)\n",
    "\n",
    "# calculate_mean_std(mnist_dataloader)"
   ]
  },
  {
   "cell_type": "code",
   "execution_count": 10,
   "metadata": {},
   "outputs": [],
   "source": [
    "batch_variation = [1,2,4,8,16,32,64]\n",
    "\n",
    "for batch in batch_variation:\n",
    "    batch_data_loader = torch.utils.data.DataLoader(dataset, shuffle=True, batch_size=batch)\n",
    "    mean, std, elapsed_time = calculate_mean_std(batch_data_loader)\n",
    "    using_dataloader.append(elapsed_time)"
   ]
  },
  {
   "cell_type": "code",
   "execution_count": 11,
   "metadata": {},
   "outputs": [
    {
     "data": {
      "image/png": "[encoded data removed]",
      "text/plain": [
       "<Figure size 640x480 with 1 Axes>"
      ]
     },
     "metadata": {},
     "output_type": "display_data"
    }
   ],
   "source": [
    "from matplotlib import pyplot as plt\n",
    "plt.plot(batch_variation, using_dataloader)\n",
    "plt.xlabel('Batch Size')\n",
    "plt.ylabel('Time (s)')\n",
    "plt.show()\n"
   ]
  },
  {
   "cell_type": "markdown",
   "metadata": {},
   "source": [
    "#### Testing the performance along the cuda device"
   ]
  },
  {
   "cell_type": "markdown",
   "metadata": {},
   "source": [
    "### Conclusion: The optimal time is given by using the Dataloader. Since it gives the performance over the batch of the dataset. Also, the batch size of 32 is ideal for the performance."
   ]
  },
  {
   "cell_type": "markdown",
   "metadata": {},
   "source": []
  }
 ],
 "metadata": {
  "kernelspec": {
   "display_name": "ml_utils",
   "language": "python",
   "name": "python3"
  },
  "language_info": {
   "codemirror_mode": {
    "name": "ipython",
    "version": 3
   },
   "file_extension": ".py",
   "mimetype": "text/x-python",
   "name": "python",
   "nbconvert_exporter": "python",
   "pygments_lexer": "ipython3",
   "version": "3.10.12"
  },
  "orig_nbformat": 4
 },
 "nbformat": 4,
 "nbformat_minor": 2
}
